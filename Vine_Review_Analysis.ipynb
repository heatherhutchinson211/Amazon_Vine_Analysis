{
  "nbformat": 4,
  "nbformat_minor": 0,
  "metadata": {
    "colab": {
      "provenance": []
    },
    "kernelspec": {
      "name": "python3",
      "display_name": "Python 3"
    },
    "language_info": {
      "name": "python"
    }
  },
  "cells": [
    {
      "cell_type": "code",
      "execution_count": 1,
      "metadata": {
        "colab": {
          "base_uri": "https://localhost:8080/"
        },
        "id": "FAgO8RICGH95",
        "outputId": "6b5719eb-b79a-4216-e631-c0b6bf7a0c41"
      },
      "outputs": [
        {
          "output_type": "stream",
          "name": "stdout",
          "text": [
            "Get:1 https://cloud.r-project.org/bin/linux/ubuntu focal-cran40/ InRelease [3,622 B]\n",
            "Ign:2 https://developer.download.nvidia.com/compute/machine-learning/repos/ubuntu2004/x86_64  InRelease\n",
            "Get:3 https://developer.download.nvidia.com/compute/cuda/repos/ubuntu2004/x86_64  InRelease [1,581 B]\n",
            "Get:4 http://security.ubuntu.com/ubuntu focal-security InRelease [114 kB]\n",
            "Hit:5 https://developer.download.nvidia.com/compute/machine-learning/repos/ubuntu2004/x86_64  Release\n",
            "Hit:6 http://ppa.launchpad.net/c2d4u.team/c2d4u4.0+/ubuntu focal InRelease\n",
            "Hit:7 http://archive.ubuntu.com/ubuntu focal InRelease\n",
            "Get:8 http://archive.ubuntu.com/ubuntu focal-updates InRelease [114 kB]\n",
            "Get:9 https://developer.download.nvidia.com/compute/cuda/repos/ubuntu2004/x86_64  Packages [920 kB]\n",
            "Hit:10 http://ppa.launchpad.net/cran/libgit2/ubuntu focal InRelease\n",
            "Hit:12 http://ppa.launchpad.net/deadsnakes/ppa/ubuntu focal InRelease\n",
            "Get:13 http://archive.ubuntu.com/ubuntu focal-backports InRelease [108 kB]\n",
            "Hit:14 http://ppa.launchpad.net/graphics-drivers/ppa/ubuntu focal InRelease\n",
            "Hit:15 http://ppa.launchpad.net/ubuntugis/ppa/ubuntu focal InRelease\n",
            "Get:16 http://security.ubuntu.com/ubuntu focal-security/main amd64 Packages [2,544 kB]\n",
            "Get:17 http://archive.ubuntu.com/ubuntu focal-updates/universe amd64 Packages [1,313 kB]\n",
            "Get:18 http://security.ubuntu.com/ubuntu focal-security/universe amd64 Packages [1,017 kB]\n",
            "Get:19 http://archive.ubuntu.com/ubuntu focal-updates/restricted amd64 Packages [2,136 kB]\n",
            "Get:20 http://archive.ubuntu.com/ubuntu focal-updates/main amd64 Packages [3,021 kB]\n",
            "Fetched 11.3 MB in 3s (3,232 kB/s)\n",
            "Reading package lists... Done\n"
          ]
        }
      ],
      "source": [
        "import os\n",
        "# Find the latest version of spark 3.2 from http://www.apache.org/dist/spark/ and enter as the spark version\n",
        "# For example:\n",
        "# spark_version = 'spark-3.2.3'\n",
        "spark_version = 'spark-3.2.3'\n",
        "os.environ['SPARK_VERSION']=spark_version\n",
        "\n",
        "# Install Spark and Java\n",
        "!apt-get update\n",
        "!apt-get install openjdk-11-jdk-headless -qq > /dev/null\n",
        "!wget -q http://www.apache.org/dist/spark/$SPARK_VERSION/$SPARK_VERSION-bin-hadoop2.7.tgz\n",
        "!tar xf $SPARK_VERSION-bin-hadoop2.7.tgz\n",
        "!pip install -q findspark\n",
        "\n",
        "# Set Environment Variables\n",
        "import os\n",
        "os.environ[\"JAVA_HOME\"] = \"/usr/lib/jvm/java-11-openjdk-amd64\"\n",
        "os.environ[\"SPARK_HOME\"] = f\"/content/{spark_version}-bin-hadoop2.7\"\n",
        "\n",
        "# Start a SparkSession\n",
        "import findspark\n",
        "findspark.init()"
      ]
    },
    {
      "cell_type": "code",
      "source": [
        "# Download the Postgres driver that will allow Spark to interact with Postgres.\n",
        "!wget https://jdbc.postgresql.org/download/postgresql-42.2.16.jar"
      ],
      "metadata": {
        "colab": {
          "base_uri": "https://localhost:8080/"
        },
        "id": "-J-CgmbGHGzY",
        "outputId": "5943b6f3-7371-46ad-8777-a8bcfcb3f0e9"
      },
      "execution_count": 2,
      "outputs": [
        {
          "output_type": "stream",
          "name": "stdout",
          "text": [
            "--2023-03-16 01:50:54--  https://jdbc.postgresql.org/download/postgresql-42.2.16.jar\n",
            "Resolving jdbc.postgresql.org (jdbc.postgresql.org)... 72.32.157.228, 2001:4800:3e1:1::228\n",
            "Connecting to jdbc.postgresql.org (jdbc.postgresql.org)|72.32.157.228|:443... connected.\n",
            "HTTP request sent, awaiting response... 200 OK\n",
            "Length: 1002883 (979K) [application/java-archive]\n",
            "Saving to: ‘postgresql-42.2.16.jar’\n",
            "\n",
            "postgresql-42.2.16. 100%[===================>] 979.38K  --.-KB/s    in 0.09s   \n",
            "\n",
            "2023-03-16 01:50:54 (10.5 MB/s) - ‘postgresql-42.2.16.jar’ saved [1002883/1002883]\n",
            "\n"
          ]
        }
      ]
    },
    {
      "cell_type": "code",
      "source": [
        "from pyspark.sql import SparkSession\n",
        "spark = SparkSession.builder.appName(\"M17-Amazon-Challenge\").config(\"spark.driver.extraClassPath\",\"/content/postgresql-42.2.16.jar\").getOrCreate()"
      ],
      "metadata": {
        "id": "sI7i_x66HOyC"
      },
      "execution_count": 3,
      "outputs": []
    },
    {
      "cell_type": "code",
      "source": [
        "from pyspark import SparkFiles\n",
        "url = \"https://s3.amazonaws.com/amazon-reviews-pds/tsv/amazon_reviews_us_Video_v1_00.tsv.gz\"\n",
        "spark.sparkContext.addFile(url)\n",
        "df = spark.read.option(\"encoding\", \"UTF-8\").csv(SparkFiles.get(\"amazon_reviews_us_Video_v1_00.tsv.gz\"), sep=\"\\t\", header=True, inferSchema=True)\n",
        "df.show()"
      ],
      "metadata": {
        "colab": {
          "base_uri": "https://localhost:8080/"
        },
        "id": "obEcK0spHSUW",
        "outputId": "cfc1e150-6ff5-46d8-f9b3-82374aa3e032"
      },
      "execution_count": 4,
      "outputs": [
        {
          "output_type": "stream",
          "name": "stdout",
          "text": [
            "+-----------+-----------+--------------+----------+--------------+--------------------+----------------+-----------+-------------+-----------+----+-----------------+--------------------+--------------------+-----------+\n",
            "|marketplace|customer_id|     review_id|product_id|product_parent|       product_title|product_category|star_rating|helpful_votes|total_votes|vine|verified_purchase|     review_headline|         review_body|review_date|\n",
            "+-----------+-----------+--------------+----------+--------------+--------------------+----------------+-----------+-------------+-----------+----+-----------------+--------------------+--------------------+-----------+\n",
            "|         US|   49033728|R1P1G5KZ05H6RD|6302503213|     748506413|The Night They Sa...|           Video|          5|            0|          0|   N|                Y|    Very satisfied!!|Fast shipping. Pl...| 2015-08-31|\n",
            "|         US|   17857748|R106N066IUN8ZV|B000059PET|     478710180|Hamlet / Kline, N...|           Video|          5|            0|          0|   N|                Y|The most talented...|Kevin Kline is th...| 2015-08-31|\n",
            "|         US|   25551507| R7WTAA1S5O7D9|0788812807|     981002815|Nascar Dual Power...|           Video|          4|            0|          0|   N|                Y|          Four Stars|         great movie| 2015-08-31|\n",
            "|         US|   21025041|R32HFMVWLYOYJK|6302509939|     333219811|The Man From U.N....|           Video|          5|            0|          0|   N|                Y|          Five Stars|i love the martin...| 2015-08-31|\n",
            "|         US|   40943563| RWT3H6HBVAL6G|B00JENS2BI|     538101194|Playboy Video Par...|           Video|          3|            0|          0|   N|                N|HOT women, dumb j...|Y'know what this ...| 2015-08-31|\n",
            "|         US|   17013969|R1S3T3GWUGQTW7|6305761302|     716303278|Cabaret Balkan - ...|           Video|          5|            0|          0|   N|                Y|          Five Stars|Wonderfully accur...| 2015-08-31|\n",
            "|         US|   47611685|R3R0QYHA800REE|6300157555|     134996462|Wrinkles:in Need ...|           Video|          4|            0|          0|   N|                Y|          Four Stars|In great shape fo...| 2015-08-31|\n",
            "|         US|   35680737|R1FR0EQPHPW5NM|6300189570|     498116870|Ladies Club,the [...|           Video|          4|            1|          2|   N|                N|          Four Stars|When are they goi...| 2015-08-31|\n",
            "|         US|   10747909| RGORN81H45NI7|B000SXQ5US|      77519275|The Campitelli Ad...|           Video|          5|            1|          1|   N|                Y|I was thrilled to...|This is the best ...| 2015-08-31|\n",
            "|         US|     126341|R1CNYN4ABNOJSU|B00008F22G|     917778300|Return of the Jed...|           Video|          5|            0|          0|   N|                Y|          Five Stars|I'm very pleased ...| 2015-08-31|\n",
            "|         US|   40676812|R2DW06821PMN40|6303453961|     187850980|  Class of '61 [VHS]|           Video|          3|            0|          0|   N|                Y|         Three Stars|      Poor quality--| 2015-08-31|\n",
            "|         US|   19863533|R1CS8AMA8B0VBJ|6302453178|     901056605|Texas Carnival [VHS]|           Video|          5|            0|          0|   N|                Y|Texas Carnival movie|Great Howard Keel...| 2015-08-31|\n",
            "|         US|   13308975|R343CPRI4MC9J0|6304475330|     472277071|National Geograph...|           Video|          5|            0|          0|   N|                N|One of my All Tim...|I loved this vide...| 2015-08-31|\n",
            "|         US|    1989554| R3XP0G8P2BOTP|B000XPQ18W|     627738468| The Intruder Within|           Video|          5|            1|          2|   N|                Y|          Five Stars|excellent, no com...| 2015-08-31|\n",
            "|         US|   14885930|R3NK7014K996PF|0800113055|     585148093|It Happened One N...|           Video|          2|            0|          4|   N|                Y|        Almost great|Was soon looking ...| 2015-08-31|\n",
            "|         US|   24203443| ROIQI6ZW6UVL9|6300133338|     966466095|       Robbery [VHS]|           Video|          5|            0|          0|   N|                Y|Based on the grea...|Based on the grea...| 2015-08-31|\n",
            "|         US|   14885930| RECPIN4UZI76Z|6304119054|     399731786|The Magnificent A...|           Video|          2|            0|          2|   N|                Y|           Not great|Honestly I didn't...| 2015-08-31|\n",
            "|         US|   41133700|R3FE5KO613PMVI|B000006CPD|     509239068|     Streamers [VHS]|           Video|          1|            0|          0|   N|                Y|Low quality recor...|Movie is great - ...| 2015-08-31|\n",
            "|         US|   46580399|R2EC74PS45RAOR|189218608X|     773411366|Special Kids Spee...|           Video|          5|            0|          0|   N|                Y|          Five Stars|These tapes are a...| 2015-08-31|\n",
            "|         US|   19863533|R3FZ5C78PP7ZD7|6302754348|     536886134|Arizona Bushwhack...|           Video|          5|            1|          1|   N|                Y|Arizona Bushwacke...|Awesome Howard Ke...| 2015-08-31|\n",
            "+-----------+-----------+--------------+----------+--------------+--------------------+----------------+-----------+-------------+-----------+----+-----------------+--------------------+--------------------+-----------+\n",
            "only showing top 20 rows\n",
            "\n"
          ]
        }
      ]
    },
    {
      "cell_type": "code",
      "source": [
        "from pyspark.sql.functions import to_date"
      ],
      "metadata": {
        "id": "g1EntHG1HWBX"
      },
      "execution_count": 5,
      "outputs": []
    },
    {
      "cell_type": "code",
      "source": [
        "vine_df = df.select([\"review_id\",\"star_rating\",\"helpful_votes\",\"total_votes\",\"vine\",\"verified_purchase\"])\n",
        "vine_df.show()"
      ],
      "metadata": {
        "colab": {
          "base_uri": "https://localhost:8080/"
        },
        "id": "ICKCFaQwHaYA",
        "outputId": "dc74a8e4-1c8e-4e14-a2c8-dec8504c8333"
      },
      "execution_count": 6,
      "outputs": [
        {
          "output_type": "stream",
          "name": "stdout",
          "text": [
            "+--------------+-----------+-------------+-----------+----+-----------------+\n",
            "|     review_id|star_rating|helpful_votes|total_votes|vine|verified_purchase|\n",
            "+--------------+-----------+-------------+-----------+----+-----------------+\n",
            "|R1P1G5KZ05H6RD|          5|            0|          0|   N|                Y|\n",
            "|R106N066IUN8ZV|          5|            0|          0|   N|                Y|\n",
            "| R7WTAA1S5O7D9|          4|            0|          0|   N|                Y|\n",
            "|R32HFMVWLYOYJK|          5|            0|          0|   N|                Y|\n",
            "| RWT3H6HBVAL6G|          3|            0|          0|   N|                N|\n",
            "|R1S3T3GWUGQTW7|          5|            0|          0|   N|                Y|\n",
            "|R3R0QYHA800REE|          4|            0|          0|   N|                Y|\n",
            "|R1FR0EQPHPW5NM|          4|            1|          2|   N|                N|\n",
            "| RGORN81H45NI7|          5|            1|          1|   N|                Y|\n",
            "|R1CNYN4ABNOJSU|          5|            0|          0|   N|                Y|\n",
            "|R2DW06821PMN40|          3|            0|          0|   N|                Y|\n",
            "|R1CS8AMA8B0VBJ|          5|            0|          0|   N|                Y|\n",
            "|R343CPRI4MC9J0|          5|            0|          0|   N|                N|\n",
            "| R3XP0G8P2BOTP|          5|            1|          2|   N|                Y|\n",
            "|R3NK7014K996PF|          2|            0|          4|   N|                Y|\n",
            "| ROIQI6ZW6UVL9|          5|            0|          0|   N|                Y|\n",
            "| RECPIN4UZI76Z|          2|            0|          2|   N|                Y|\n",
            "|R3FE5KO613PMVI|          1|            0|          0|   N|                Y|\n",
            "|R2EC74PS45RAOR|          5|            0|          0|   N|                Y|\n",
            "|R3FZ5C78PP7ZD7|          5|            1|          1|   N|                Y|\n",
            "+--------------+-----------+-------------+-----------+----+-----------------+\n",
            "only showing top 20 rows\n",
            "\n"
          ]
        }
      ]
    },
    {
      "cell_type": "code",
      "source": [
        "# Filter the data and create a new DataFrame or table to retrieve all the rows where the total_votes count is equal to or greater than 20\n",
        "vine_df = df.select([\"review_id\",\"star_rating\",\"helpful_votes\",\"total_votes\",\"vine\",\"verified_purchase\"])\n",
        "votes = df.filter(\"total_votes >= 20\")"
      ],
      "metadata": {
        "id": "HGI-Cc4WHiD6"
      },
      "execution_count": 8,
      "outputs": []
    },
    {
      "cell_type": "code",
      "source": [
        "# Create a new DataFrame or table to retrieve all the rows where the number of helpful_votes divided by total_votes is equal to or greater than 50%.\n",
        "new_df = votes.filter(votes[\"helpful_votes\"]/votes[\"total_votes\"]>=0.5)\n",
        "new_df.show()"
      ],
      "metadata": {
        "colab": {
          "base_uri": "https://localhost:8080/"
        },
        "id": "0Cj1KFlLH_ec",
        "outputId": "72f62a10-71b2-4555-dbb2-e9130da0930e"
      },
      "execution_count": 9,
      "outputs": [
        {
          "output_type": "stream",
          "name": "stdout",
          "text": [
            "+-----------+-----------+--------------+----------+--------------+--------------------+----------------+-----------+-------------+-----------+----+-----------------+--------------------+--------------------+-----------+\n",
            "|marketplace|customer_id|     review_id|product_id|product_parent|       product_title|product_category|star_rating|helpful_votes|total_votes|vine|verified_purchase|     review_headline|         review_body|review_date|\n",
            "+-----------+-----------+--------------+----------+--------------+--------------------+----------------+-----------+-------------+-----------+----+-----------------+--------------------+--------------------+-----------+\n",
            "|         US|    2134748| RN8GRZ45FA27G|B00004RLLT|     401019781|        Shakma [VHS]|           Video|          5|           30|         31|   N|                N|It was some of th...|I starred in this...| 2015-05-22|\n",
            "|         US|    6227904|R2BVILHJN8OCJB|B00004XPP0|     745272701|Star Wars Trilogy...|           Video|          5|           29|         31|   N|                N|OKAY. THE TWO MOV...|NOW STAR WARS EPI...| 2015-05-02|\n",
            "|         US|   42832241| RJQ36XR04YC0D|B00BBND56G|     745272701|Original Version ...|           Video|          5|           21|         24|   N|                N|this is the one &...|well, I don't kno...| 2014-12-02|\n",
            "|         US|   31306044|R250VXGBVFWTUV|B000XZGQM8|     967457203|Star Trek Deep Sp...|           Video|          4|           17|         20|   N|                N|This is by far th...|Star Trek promise...| 2014-10-17|\n",
            "|         US|   51596102|R16CPMMKI4ZPZG|B0044PGRUO|     821984630|Lifetime Original...|           Video|          5|           22|         23|   N|                N|Excellent! !! 5 S...|I really need the...| 2014-08-27|\n",
            "|         US|   46634050|R1QDLAE82GPWWG|B000AQG4JU|     655504164|Jane Fonda's NEW ...|           Video|          4|           30|         32|   N|                N|Still think the 1...|I have both the o...| 2014-05-02|\n",
            "|         US|   48055428| ROVJULNDT4MPI|B0007CI95O|     794906423|     Body Flex 1 & 2|           Video|          5|           20|         20|   N|                N|Best Product it y...|My mother brought...| 2014-03-01|\n",
            "|         US|    9055095|R3EHTX262RLEKZ|B00BBND56G|     745272701|Original Version ...|           Video|          5|           28|         31|   N|                Y|        The original|Just right for on...| 2014-02-19|\n",
            "|         US|    6764592|R28TXXUMXAIGH3|B00BBND56G|     745272701|Original Version ...|           Video|          5|           21|         24|   N|                N|If you want to se...|As it has been st...| 2014-02-18|\n",
            "|         US|   45260721|R3UBLTOJ9G8NSU|0792834720|     210664710| Escape Clause [VHS]|           Video|          4|           19|         25|   N|                N|A good suspensefu...|The protagonist i...| 2013-11-13|\n",
            "|         US|   16954513|R1AJGJI6E2TZ26|B0002MSQ7U|      70892549|Ralph Paul: Secre...|           Video|          1|           44|         47|   N|                N|       tacher review|One of my greates...| 2013-11-07|\n",
            "|         US|   37484085|R16Y72Z2CP4A3Y|6302112060|      16259769|I've Always Loved...|           Video|          5|           27|         28|   N|                Y|How have I missed...|It is difficult f...| 2013-09-05|\n",
            "|         US|   49546877|R26K5GZTYJOS08|6301247345|     727493318|Platoon Leader [VHS]|           Video|          5|           32|         32|   N|                N|WAITING 25 YRS. S...|I served with Cha...| 2013-08-22|\n",
            "|         US|   45300547|R1PEOPNU57LE5J|B000A5SR46|     378671104|Rodgers & Hammers...|           Video|          5|           30|         33|   N|                Y|          cinderella|I have been looki...| 2013-07-22|\n",
            "|         US|   15846907| RVK8SPOZ3L50D|B000A5SR46|     378671104|Rodgers & Hammers...|           Video|          5|           79|         81|   N|                Y|BEST VERSION OF C...|This is the best ...| 2013-07-05|\n",
            "|         US|   27070982|R3O5I6JZA32HHS|B0007CI95O|     794906423|     Body Flex 1 & 2|           Video|          5|           18|         20|   N|                Y|Everybody should ...|I have been using...| 2013-03-28|\n",
            "|         US|   15110289|R166CXEUVQP4L9|B00005T5YJ|     312854727|        Brink! [VHS]|           Video|          2|           13|         20|   N|                N|               $200?|$200? Really..? I...| 2013-03-08|\n",
            "|         US|   41826320|R3FOJNYONJZAVL|6301358449|     477476631|  Retreat Hell [VHS]|           Video|          5|           42|         43|   N|                Y|Review of \"Retrea...|This old B & W mo...| 2013-03-06|\n",
            "|         US|   31508898|R22CIFPZ3HGNBZ|B00004RLOQ|     391310134|      Moontrap [VHS]|           Video|          2|           17|         21|   N|                Y|MOONTRAP Film is ...|I have seen this ...| 2013-02-28|\n",
            "|         US|   20537161|R30PZGIDXHASEK|B00009A8ZW|     334274225|Play Piano in a F...|           Video|          3|           24|         26|   N|                Y|Needs some practi...|Before watching t...| 2013-02-25|\n",
            "+-----------+-----------+--------------+----------+--------------+--------------------+----------------+-----------+-------------+-----------+----+-----------------+--------------------+--------------------+-----------+\n",
            "only showing top 20 rows\n",
            "\n"
          ]
        }
      ]
    },
    {
      "cell_type": "code",
      "source": [
        "#Filter the DataFrame or table created in Step 2, and create a new DataFrame or table that retrieves all the rows where a review was written as part of the Vine program (paid)\n",
        "new_df.filter(new_df[\"vine\"] == \"Y\").show()\n",
        "     "
      ],
      "metadata": {
        "colab": {
          "base_uri": "https://localhost:8080/"
        },
        "id": "vndzds-eIWfZ",
        "outputId": "cc681ebf-7036-41c7-849e-ceb619678bb2"
      },
      "execution_count": 10,
      "outputs": [
        {
          "output_type": "stream",
          "name": "stdout",
          "text": [
            "+-----------+-----------+---------+----------+--------------+-------------+----------------+-----------+-------------+-----------+----+-----------------+---------------+-----------+-----------+\n",
            "|marketplace|customer_id|review_id|product_id|product_parent|product_title|product_category|star_rating|helpful_votes|total_votes|vine|verified_purchase|review_headline|review_body|review_date|\n",
            "+-----------+-----------+---------+----------+--------------+-------------+----------------+-----------+-------------+-----------+----+-----------------+---------------+-----------+-----------+\n",
            "+-----------+-----------+---------+----------+--------------+-------------+----------------+-----------+-------------+-----------+----+-----------------+---------------+-----------+-----------+\n",
            "\n"
          ]
        }
      ]
    },
    {
      "cell_type": "code",
      "source": [
        "#Repeat Step 3, but this time retrieve all the rows where the review was not part of the Vine program (unpaid),\n",
        "new_df.filter(new_df[\"vine\"] == \"N\").show()"
      ],
      "metadata": {
        "colab": {
          "base_uri": "https://localhost:8080/"
        },
        "id": "TVpFn1eoInIQ",
        "outputId": "29811926-3330-44cd-cddf-8f61b8cb1942"
      },
      "execution_count": 12,
      "outputs": [
        {
          "output_type": "stream",
          "name": "stdout",
          "text": [
            "+-----------+-----------+--------------+----------+--------------+--------------------+----------------+-----------+-------------+-----------+----+-----------------+--------------------+--------------------+-----------+\n",
            "|marketplace|customer_id|     review_id|product_id|product_parent|       product_title|product_category|star_rating|helpful_votes|total_votes|vine|verified_purchase|     review_headline|         review_body|review_date|\n",
            "+-----------+-----------+--------------+----------+--------------+--------------------+----------------+-----------+-------------+-----------+----+-----------------+--------------------+--------------------+-----------+\n",
            "|         US|    2134748| RN8GRZ45FA27G|B00004RLLT|     401019781|        Shakma [VHS]|           Video|          5|           30|         31|   N|                N|It was some of th...|I starred in this...| 2015-05-22|\n",
            "|         US|    6227904|R2BVILHJN8OCJB|B00004XPP0|     745272701|Star Wars Trilogy...|           Video|          5|           29|         31|   N|                N|OKAY. THE TWO MOV...|NOW STAR WARS EPI...| 2015-05-02|\n",
            "|         US|   42832241| RJQ36XR04YC0D|B00BBND56G|     745272701|Original Version ...|           Video|          5|           21|         24|   N|                N|this is the one &...|well, I don't kno...| 2014-12-02|\n",
            "|         US|   31306044|R250VXGBVFWTUV|B000XZGQM8|     967457203|Star Trek Deep Sp...|           Video|          4|           17|         20|   N|                N|This is by far th...|Star Trek promise...| 2014-10-17|\n",
            "|         US|   51596102|R16CPMMKI4ZPZG|B0044PGRUO|     821984630|Lifetime Original...|           Video|          5|           22|         23|   N|                N|Excellent! !! 5 S...|I really need the...| 2014-08-27|\n",
            "|         US|   46634050|R1QDLAE82GPWWG|B000AQG4JU|     655504164|Jane Fonda's NEW ...|           Video|          4|           30|         32|   N|                N|Still think the 1...|I have both the o...| 2014-05-02|\n",
            "|         US|   48055428| ROVJULNDT4MPI|B0007CI95O|     794906423|     Body Flex 1 & 2|           Video|          5|           20|         20|   N|                N|Best Product it y...|My mother brought...| 2014-03-01|\n",
            "|         US|    9055095|R3EHTX262RLEKZ|B00BBND56G|     745272701|Original Version ...|           Video|          5|           28|         31|   N|                Y|        The original|Just right for on...| 2014-02-19|\n",
            "|         US|    6764592|R28TXXUMXAIGH3|B00BBND56G|     745272701|Original Version ...|           Video|          5|           21|         24|   N|                N|If you want to se...|As it has been st...| 2014-02-18|\n",
            "|         US|   45260721|R3UBLTOJ9G8NSU|0792834720|     210664710| Escape Clause [VHS]|           Video|          4|           19|         25|   N|                N|A good suspensefu...|The protagonist i...| 2013-11-13|\n",
            "|         US|   16954513|R1AJGJI6E2TZ26|B0002MSQ7U|      70892549|Ralph Paul: Secre...|           Video|          1|           44|         47|   N|                N|       tacher review|One of my greates...| 2013-11-07|\n",
            "|         US|   37484085|R16Y72Z2CP4A3Y|6302112060|      16259769|I've Always Loved...|           Video|          5|           27|         28|   N|                Y|How have I missed...|It is difficult f...| 2013-09-05|\n",
            "|         US|   49546877|R26K5GZTYJOS08|6301247345|     727493318|Platoon Leader [VHS]|           Video|          5|           32|         32|   N|                N|WAITING 25 YRS. S...|I served with Cha...| 2013-08-22|\n",
            "|         US|   45300547|R1PEOPNU57LE5J|B000A5SR46|     378671104|Rodgers & Hammers...|           Video|          5|           30|         33|   N|                Y|          cinderella|I have been looki...| 2013-07-22|\n",
            "|         US|   15846907| RVK8SPOZ3L50D|B000A5SR46|     378671104|Rodgers & Hammers...|           Video|          5|           79|         81|   N|                Y|BEST VERSION OF C...|This is the best ...| 2013-07-05|\n",
            "|         US|   27070982|R3O5I6JZA32HHS|B0007CI95O|     794906423|     Body Flex 1 & 2|           Video|          5|           18|         20|   N|                Y|Everybody should ...|I have been using...| 2013-03-28|\n",
            "|         US|   15110289|R166CXEUVQP4L9|B00005T5YJ|     312854727|        Brink! [VHS]|           Video|          2|           13|         20|   N|                N|               $200?|$200? Really..? I...| 2013-03-08|\n",
            "|         US|   41826320|R3FOJNYONJZAVL|6301358449|     477476631|  Retreat Hell [VHS]|           Video|          5|           42|         43|   N|                Y|Review of \"Retrea...|This old B & W mo...| 2013-03-06|\n",
            "|         US|   31508898|R22CIFPZ3HGNBZ|B00004RLOQ|     391310134|      Moontrap [VHS]|           Video|          2|           17|         21|   N|                Y|MOONTRAP Film is ...|I have seen this ...| 2013-02-28|\n",
            "|         US|   20537161|R30PZGIDXHASEK|B00009A8ZW|     334274225|Play Piano in a F...|           Video|          3|           24|         26|   N|                Y|Needs some practi...|Before watching t...| 2013-02-25|\n",
            "+-----------+-----------+--------------+----------+--------------+--------------------+----------------+-----------+-------------+-----------+----+-----------------+--------------------+--------------------+-----------+\n",
            "only showing top 20 rows\n",
            "\n"
          ]
        }
      ]
    },
    {
      "cell_type": "code",
      "source": [
        "# Determine the total number of reviews, the number of 5-star reviews, and the percentage of 5-star reviews for the two types of review (paid vs unpaid).\n",
        "new_df.count()"
      ],
      "metadata": {
        "colab": {
          "base_uri": "https://localhost:8080/"
        },
        "id": "h0JT_MVOI2YB",
        "outputId": "33a4ffb9-ed7c-4c7b-edd9-d825aa1b1086"
      },
      "execution_count": 13,
      "outputs": [
        {
          "output_type": "execute_result",
          "data": {
            "text/plain": [
              "20201"
            ]
          },
          "metadata": {},
          "execution_count": 13
        }
      ]
    },
    {
      "cell_type": "code",
      "source": [
        "five_star = new_df.filter(new_df[\"star_rating\"]== 5)\n",
        "five_star.count()"
      ],
      "metadata": {
        "colab": {
          "base_uri": "https://localhost:8080/"
        },
        "id": "fJVLRTSgJFUA",
        "outputId": "e1751434-57c7-45a9-ed01-2498be4efc01"
      },
      "execution_count": 14,
      "outputs": [
        {
          "output_type": "execute_result",
          "data": {
            "text/plain": [
              "12331"
            ]
          },
          "metadata": {},
          "execution_count": 14
        }
      ]
    },
    {
      "cell_type": "code",
      "source": [
        "five_star.filter(five_star[\"verified_purchase\"] == \"Y\").count()/new_df.filter(new_df[\"verified_purchase\"]== \"Y\").count()"
      ],
      "metadata": {
        "colab": {
          "base_uri": "https://localhost:8080/"
        },
        "id": "vE68bTaGJTmT",
        "outputId": "f03fc840-45e0-4560-a79f-2fb67ccbd970"
      },
      "execution_count": 16,
      "outputs": [
        {
          "output_type": "execute_result",
          "data": {
            "text/plain": [
              "0.6445070422535212"
            ]
          },
          "metadata": {},
          "execution_count": 16
        }
      ]
    },
    {
      "cell_type": "code",
      "source": [
        "five_star.filter(five_star[\"verified_purchase\"] == \"N\").count()/new_df.filter(new_df[\"verified_purchase\"]== \"N\").count()"
      ],
      "metadata": {
        "colab": {
          "base_uri": "https://localhost:8080/"
        },
        "id": "u_rAcqnqJclV",
        "outputId": "6ad98338-0146-42c5-8de4-cf57a9df6d96"
      },
      "execution_count": 17,
      "outputs": [
        {
          "output_type": "execute_result",
          "data": {
            "text/plain": [
              "0.6031469581406522"
            ]
          },
          "metadata": {},
          "execution_count": 17
        }
      ]
    }
  ]
}